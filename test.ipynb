{
 "cells": [
  {
   "cell_type": "code",
   "execution_count": 1,
   "metadata": {
    "collapsed": true
   },
   "outputs": [],
   "source": [
    "%matplotlib inline\n",
    "import numpy as np\n",
    "import cv2\n",
    "import matplotlib\n",
    "from matplotlib import colors\n",
    "from matplotlib import pyplot as plt\n",
    "import numpy as np\n",
    "from __future__ import division\n",
    "#Some functions\n",
    "def show(image):\n",
    "    # Figure size in inches\n",
    "    plt.figure(figsize=(15, 15))\n",
    "    \n",
    "    # Show image, with nearest neighbour interpolation\n",
    "    plt.imshow(image, interpolation='nearest')\n",
    "    \n",
    "def show_hsv(hsv):\n",
    "    rgb = cv2.cvtColor(hsv, cv2.COLOR_HSV2BGR)\n",
    "    show(rgb)\n",
    "    \n",
    "def show_mask(mask):\n",
    "    plt.figure(figsize=(10, 10))\n",
    "    plt.imshow(mask, cmap='gray')\n",
    "    \n",
    "def overlay_mask(mask, image):\n",
    "    rgb_mask = cv2.cvtColor(mask, cv2.COLOR_GRAY2RGB)\n",
    "    img = cv2.addWeighted(rgb_mask, 0.5, image, 0.5, 0)\n",
    "    show(img)\n",
    "    \n",
    "#start video capture \n",
    "cap = cv2.VideoCapture(0)\n",
    "\n",
    "while(True):\n",
    "    # Capture frame-by-frame\n",
    "    ret, frame = cap.read()\n",
    "\n",
    "    # Calculate diferent filters and coordinates and make image smaller\n",
    "    image = cv2.resize(frame, None, fx=1/3, fy=1/3)\n",
    "    hsv = cv2.cvtColor(image, cv2.COLOR_RGB2HSV)\n",
    "\n",
    "    images = []\n",
    "    for i in [0, 1, 2]:#let see if changing colors works\n",
    "        colour = hsv.copy()\n",
    "        if i != 0: colour[:,:,0] = 0\n",
    "        if i != 1: colour[:,:,1] = 255\n",
    "        if i != 2: colour[:,:,2] = 255\n",
    "        images.append(colour)\n",
    "    image_blur = cv2.GaussianBlur(image, (7, 7), 0)\n",
    "    image_blur_hsv = cv2.cvtColor(image_blur, cv2.COLOR_RGB2HSV)\n",
    "    images.append(image_blur_hsv)\n",
    "    hsv_stack = np.vstack(images)\n",
    "    #rgb_stack = cv2.cvtColor(hsv_stack, cv2.COLOR_HSV2RGB)\n",
    "\n",
    "    cv2.imshow('bla',hsv_stack)\n",
    "    if cv2.waitKey(1) & 0xFF == ord('q'):\n",
    "        break\n",
    "\n",
    "# When everything done, release the capture\n",
    "cap.release()\n",
    "cv2.destroyAllWindows()"
   ]
  },
  {
   "cell_type": "code",
   "execution_count": null,
   "metadata": {
    "collapsed": true
   },
   "outputs": [],
   "source": []
  }
 ],
 "metadata": {
  "kernelspec": {
   "display_name": "Python 2",
   "language": "python",
   "name": "python2"
  },
  "language_info": {
   "codemirror_mode": {
    "name": "ipython",
    "version": 2
   },
   "file_extension": ".py",
   "mimetype": "text/x-python",
   "name": "python",
   "nbconvert_exporter": "python",
   "pygments_lexer": "ipython2",
   "version": "2.7.12"
  }
 },
 "nbformat": 4,
 "nbformat_minor": 2
}
